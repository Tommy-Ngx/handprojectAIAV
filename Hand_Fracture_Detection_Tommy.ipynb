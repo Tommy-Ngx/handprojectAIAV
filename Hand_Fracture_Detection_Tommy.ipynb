{
  "nbformat": 4,
  "nbformat_minor": 2,
  "metadata": {
    "colab": {
      "name": "Hand Fracture Detection Tommy ",
      "provenance": [],
      "collapsed_sections": [],
      "machine_shape": "hm"
    },
    "kernelspec": {
      "name": "python3",
      "display_name": "Python 3"
    },
    "accelerator": "GPU"
  },
  "cells": [
    {
      "cell_type": "markdown",
      "source": [
        "# Notebook Chuẩn GPU \n",
        "Tommy NgX"
      ],
      "metadata": {
        "id": "cLXtE5Z_C1kK"
      }
    },
    {
      "cell_type": "markdown",
      "source": [
        "## Testing GPU & Setup\n",
        "---"
      ],
      "metadata": {
        "id": "GapTQAIwDER7"
      }
    },
    {
      "cell_type": "code",
      "execution_count": null,
      "source": [
        "from psutil import virtual_memory\n",
        "ram_gb = virtual_memory().total / 1e9\n",
        "print('Your runtime has {:.1f} gigabytes of available RAM\\n'.format(ram_gb))\n",
        "!nvidia-smi"
      ],
      "outputs": [
        {
          "output_type": "stream",
          "name": "stdout",
          "text": [
            "Your runtime has 13.6 gigabytes of available RAM\n",
            "\n",
            "Mon Jun 28 02:51:06 2021       \n",
            "+-----------------------------------------------------------------------------+\n",
            "| NVIDIA-SMI 465.27       Driver Version: 460.32.03    CUDA Version: 11.2     |\n",
            "|-------------------------------+----------------------+----------------------+\n",
            "| GPU  Name        Persistence-M| Bus-Id        Disp.A | Volatile Uncorr. ECC |\n",
            "| Fan  Temp  Perf  Pwr:Usage/Cap|         Memory-Usage | GPU-Util  Compute M. |\n",
            "|                               |                      |               MIG M. |\n",
            "|===============================+======================+======================|\n",
            "|   0  Tesla T4            Off  | 00000000:00:04.0 Off |                    0 |\n",
            "| N/A   39C    P8     9W /  70W |      0MiB / 15109MiB |      0%      Default |\n",
            "|                               |                      |                  N/A |\n",
            "+-------------------------------+----------------------+----------------------+\n",
            "                                                                               \n",
            "+-----------------------------------------------------------------------------+\n",
            "| Processes:                                                                  |\n",
            "|  GPU   GI   CI        PID   Type   Process name                  GPU Memory |\n",
            "|        ID   ID                                                   Usage      |\n",
            "|=============================================================================|\n",
            "|  No running processes found                                                 |\n",
            "+-----------------------------------------------------------------------------+\n"
          ]
        }
      ],
      "metadata": {
        "id": "7o79nAI8DJ1Z",
        "colab": {
          "base_uri": "https://localhost:8080/"
        },
        "outputId": "bb4d6cdf-bc21-41e7-96c3-2636a7d29976"
      }
    },
    {
      "cell_type": "code",
      "execution_count": null,
      "source": [
        "import os#\n",
        "from google.colab import files\n",
        "from google.colab import output\n",
        "!rm -rf /content/sample_data\n",
        "if os.path.exists('/content/tommy')== False:  \n",
        "  os.mkdir('/content/tommy')\n",
        "!pip install ipython-autotime --quiet\n",
        "!apt install wget --quiet\n",
        "!apt install ffmpeg --quiet\n",
        "!pip install detecto --quiet\n",
        "output.clear()\n",
        "import datetime\n",
        "now = \"Done process at : \" + datetime.datetime.now().strftime(\"%Y-%m-%d %H:%M:%S\")\n",
        "print(now)\n",
        "def ketthuc():\n",
        "  output.clear()\n",
        "  print(now)\n",
        "%load_ext autotime"
      ],
      "outputs": [
        {
          "output_type": "stream",
          "name": "stdout",
          "text": [
            "Done process at : 2021-06-22 16:20:55\n",
            "time: 141 µs (started: 2021-06-22 16:20:55 +00:00)\n"
          ]
        }
      ],
      "metadata": {
        "id": "bK0w2uG0-gRU",
        "colab": {
          "base_uri": "https://localhost:8080/"
        },
        "outputId": "bdc88daa-d2fa-470e-e973-db5623cf4ed6"
      }
    },
    {
      "cell_type": "code",
      "execution_count": null,
      "source": [
        "# Library\n",
        "from PIL import Image\n",
        "import shutil\n",
        "import requests\n",
        "from google.colab import files\n",
        "from IPython.display import Image, display\n",
        "import numpy as np\n",
        "import pandas as pd\n",
        "\n",
        "from detecto.core import Model, Dataset, DataLoader\n",
        "from detecto.utils import xml_to_csv, read_image\n",
        "from detecto.visualize import detect_video\n",
        "from detecto import visualize\n",
        "import matplotlib.pyplot as plt\n",
        "import os\n",
        "import json\n",
        "import pandas as pd\n",
        "import cv2\n",
        "import matplotlib.image as mpimg"
      ],
      "outputs": [
        {
          "output_type": "stream",
          "name": "stdout",
          "text": [
            "time: 4.69 s (started: 2021-06-22 16:20:55 +00:00)\n"
          ]
        }
      ],
      "metadata": {
        "colab": {
          "base_uri": "https://localhost:8080/"
        },
        "id": "7WbKgx5PY88E",
        "outputId": "d1f78480-9a60-4ac8-c25a-b2b12c1e53ee"
      }
    },
    {
      "cell_type": "code",
      "execution_count": null,
      "source": [
        "%cd /content/tommy/\n",
        "if os.path.exists('/content/hand-fracture-mini.zip')== False:  \n",
        "  !kaggle datasets download -d tommyngx/hand-fracture-mini\n",
        "  !unzip /content/tommy/hand-fracture-mini.zip -d /content/tommy\n",
        "  !rm -rf /content/tommy/hand-fracture-mini.zip\n",
        "\n",
        "ketthuc()"
      ],
      "outputs": [
        {
          "output_type": "stream",
          "name": "stdout",
          "text": [
            "Done process at : 2021-06-22 16:20:55\n",
            "time: 1.67 s (started: 2021-06-22 16:20:59 +00:00)\n"
          ]
        }
      ],
      "metadata": {
        "colab": {
          "base_uri": "https://localhost:8080/"
        },
        "id": "CIk3hw4SZcyZ",
        "outputId": "cdf53c59-5a3e-4a6f-e521-92da116a4144"
      }
    },
    {
      "cell_type": "code",
      "execution_count": null,
      "source": [],
      "outputs": [],
      "metadata": {
        "id": "T9HGkcx6ZsDW"
      }
    },
    {
      "cell_type": "markdown",
      "source": [
        "---\n",
        "# Let's Go"
      ],
      "metadata": {
        "id": "dEFwUMz-WI7_"
      }
    },
    {
      "cell_type": "code",
      "execution_count": null,
      "source": [
        "train_dir = '/content/tommy/train/'\n",
        "fig = plt.figure(figsize = (10, 10))\n",
        "# total_rows, total_columns, subplot_index(1st, 2nd, etc..)\n",
        "plt.subplot(1, 4, 1)\n",
        "plt.imshow(mpimg.imread(train_dir + '20.jpg'))\n",
        "plt.axis('off')\n",
        "plt.subplot(1, 4, 2)\n",
        "plt.imshow(mpimg.imread(train_dir + '12.jpg'))\n",
        "plt.axis('off')\n",
        "plt.subplot(1, 4, 3)\n",
        "plt.imshow(mpimg.imread(train_dir + '10.jpg'))\n",
        "plt.axis('off')\n",
        "plt.subplot(1, 4, 4)\n",
        "plt.imshow(mpimg.imread(train_dir + '1.jpg'))\n",
        "plt.axis('off')"
      ],
      "outputs": [
        {
          "output_type": "execute_result",
          "data": {
            "text/plain": [
              "(-0.5, 441.5, 441.5, -0.5)"
            ]
          },
          "metadata": {
            "tags": []
          },
          "execution_count": 8
        },
        {
          "output_type": "display_data",
          "data": {
            "image/png": "[encoded data removed]",
            "text/plain": [
              "<Figure size 720x720 with 4 Axes>"
            ]
          },
          "metadata": {
            "tags": [],
            "needs_background": "light"
          }
        },
        {
          "output_type": "stream",
          "name": "stdout",
          "text": [
            "time: 292 ms (started: 2021-06-22 16:23:02 +00:00)\n"
          ]
        }
      ],
      "metadata": {
        "colab": {
          "base_uri": "https://localhost:8080/",
          "height": 266
        },
        "id": "T9PD31vFdIAB",
        "outputId": "6131b71e-626a-4c2a-8272-d36e7c30e4f6"
      }
    },
    {
      "cell_type": "code",
      "execution_count": null,
      "source": [
        "xml_to_csv('/content/tommy/train/', 'train.csv')\n",
        "#xml_to_csv('/content/tommy/test/', 'test.csv')"
      ],
      "outputs": [
        {
          "output_type": "execute_result",
          "data": {
            "text/html": [
              "<div>\n",
              "<style scoped>\n",
              "    .dataframe tbody tr th:only-of-type {\n",
              "        vertical-align: middle;\n",
              "    }\n",
              "\n",
              "    .dataframe tbody tr th {\n",
              "        vertical-align: top;\n",
              "    }\n",
              "\n",
              "    .dataframe thead th {\n",
              "        text-align: right;\n",
              "    }\n",
              "</style>\n",
              "<table border=\"1\" class=\"dataframe\">\n",
              "  <thead>\n",
              "    <tr style=\"text-align: right;\">\n",
              "      <th></th>\n",
              "      <th>filename</th>\n",
              "      <th>width</th>\n",
              "      <th>height</th>\n",
              "      <th>class</th>\n",
              "      <th>xmin</th>\n",
              "      <th>ymin</th>\n",
              "      <th>xmax</th>\n",
              "      <th>ymax</th>\n",
              "      <th>image_id</th>\n",
              "    </tr>\n",
              "  </thead>\n",
              "  <tbody>\n",
              "    <tr>\n",
              "      <th>0</th>\n",
              "      <td>10.jpg</td>\n",
              "      <td>800</td>\n",
              "      <td>531</td>\n",
              "      <td>fracture</td>\n",
              "      <td>291</td>\n",
              "      <td>225</td>\n",
              "      <td>352</td>\n",
              "      <td>309</td>\n",
              "      <td>0</td>\n",
              "    </tr>\n",
              "    <tr>\n",
              "      <th>1</th>\n",
              "      <td>158.jpg</td>\n",
              "      <td>872</td>\n",
              "      <td>1024</td>\n",
              "      <td>fracture</td>\n",
              "      <td>578</td>\n",
              "      <td>202</td>\n",
              "      <td>675</td>\n",
              "      <td>349</td>\n",
              "      <td>1</td>\n",
              "    </tr>\n",
              "    <tr>\n",
              "      <th>2</th>\n",
              "      <td>158.jpg</td>\n",
              "      <td>872</td>\n",
              "      <td>1024</td>\n",
              "      <td>fracture</td>\n",
              "      <td>570</td>\n",
              "      <td>67</td>\n",
              "      <td>609</td>\n",
              "      <td>132</td>\n",
              "      <td>1</td>\n",
              "    </tr>\n",
              "    <tr>\n",
              "      <th>3</th>\n",
              "      <td>37.jpg</td>\n",
              "      <td>1500</td>\n",
              "      <td>2000</td>\n",
              "      <td>fracture</td>\n",
              "      <td>715</td>\n",
              "      <td>1114</td>\n",
              "      <td>921</td>\n",
              "      <td>1405</td>\n",
              "      <td>2</td>\n",
              "    </tr>\n",
              "    <tr>\n",
              "      <th>4</th>\n",
              "      <td>87.jpg</td>\n",
              "      <td>555</td>\n",
              "      <td>865</td>\n",
              "      <td>fracture</td>\n",
              "      <td>141</td>\n",
              "      <td>402</td>\n",
              "      <td>170</td>\n",
              "      <td>421</td>\n",
              "      <td>3</td>\n",
              "    </tr>\n",
              "    <tr>\n",
              "      <th>...</th>\n",
              "      <td>...</td>\n",
              "      <td>...</td>\n",
              "      <td>...</td>\n",
              "      <td>...</td>\n",
              "      <td>...</td>\n",
              "      <td>...</td>\n",
              "      <td>...</td>\n",
              "      <td>...</td>\n",
              "      <td>...</td>\n",
              "    </tr>\n",
              "    <tr>\n",
              "      <th>288</th>\n",
              "      <td>69.jpg</td>\n",
              "      <td>327</td>\n",
              "      <td>442</td>\n",
              "      <td>fracture</td>\n",
              "      <td>84</td>\n",
              "      <td>217</td>\n",
              "      <td>117</td>\n",
              "      <td>274</td>\n",
              "      <td>233</td>\n",
              "    </tr>\n",
              "    <tr>\n",
              "      <th>289</th>\n",
              "      <td>213.jpg</td>\n",
              "      <td>946</td>\n",
              "      <td>1500</td>\n",
              "      <td>fracture</td>\n",
              "      <td>285</td>\n",
              "      <td>781</td>\n",
              "      <td>378</td>\n",
              "      <td>899</td>\n",
              "      <td>234</td>\n",
              "    </tr>\n",
              "    <tr>\n",
              "      <th>290</th>\n",
              "      <td>213.jpg</td>\n",
              "      <td>946</td>\n",
              "      <td>1500</td>\n",
              "      <td>fracture</td>\n",
              "      <td>376</td>\n",
              "      <td>746</td>\n",
              "      <td>469</td>\n",
              "      <td>869</td>\n",
              "      <td>234</td>\n",
              "    </tr>\n",
              "    <tr>\n",
              "      <th>291</th>\n",
              "      <td>234.jpg</td>\n",
              "      <td>525</td>\n",
              "      <td>812</td>\n",
              "      <td>fracture</td>\n",
              "      <td>400</td>\n",
              "      <td>384</td>\n",
              "      <td>446</td>\n",
              "      <td>431</td>\n",
              "      <td>235</td>\n",
              "    </tr>\n",
              "    <tr>\n",
              "      <th>292</th>\n",
              "      <td>89.jpg</td>\n",
              "      <td>1754</td>\n",
              "      <td>2333</td>\n",
              "      <td>fracture</td>\n",
              "      <td>1339</td>\n",
              "      <td>1366</td>\n",
              "      <td>1500</td>\n",
              "      <td>1538</td>\n",
              "      <td>236</td>\n",
              "    </tr>\n",
              "  </tbody>\n",
              "</table>\n",
              "<p>293 rows × 9 columns</p>\n",
              "</div>"
            ],
            "text/plain": [
              "    filename  width  height     class  xmin  ymin  xmax  ymax  image_id\n",
              "0     10.jpg    800     531  fracture   291   225   352   309         0\n",
              "1    158.jpg    872    1024  fracture   578   202   675   349         1\n",
              "2    158.jpg    872    1024  fracture   570    67   609   132         1\n",
              "3     37.jpg   1500    2000  fracture   715  1114   921  1405         2\n",
              "4     87.jpg    555     865  fracture   141   402   170   421         3\n",
              "..       ...    ...     ...       ...   ...   ...   ...   ...       ...\n",
              "288   69.jpg    327     442  fracture    84   217   117   274       233\n",
              "289  213.jpg    946    1500  fracture   285   781   378   899       234\n",
              "290  213.jpg    946    1500  fracture   376   746   469   869       234\n",
              "291  234.jpg    525     812  fracture   400   384   446   431       235\n",
              "292   89.jpg   1754    2333  fracture  1339  1366  1500  1538       236\n",
              "\n",
              "[293 rows x 9 columns]"
            ]
          },
          "metadata": {
            "tags": []
          },
          "execution_count": 22
        },
        {
          "output_type": "stream",
          "name": "stdout",
          "text": [
            "time: 39.3 ms (started: 2021-06-22 16:38:24 +00:00)\n"
          ]
        }
      ],
      "metadata": {
        "id": "CTBF5tZVWEZH",
        "colab": {
          "base_uri": "https://localhost:8080/",
          "height": 436
        },
        "outputId": "90a4c312-ae4f-4df8-b27f-88e19ccedd2d"
      }
    },
    {
      "cell_type": "code",
      "execution_count": null,
      "source": [
        "df_train = pd.read_csv('/content/tommy/train.csv')\n",
        "df_train"
      ],
      "outputs": [
        {
          "output_type": "execute_result",
          "data": {
            "text/html": [
              "<div>\n",
              "<style scoped>\n",
              "    .dataframe tbody tr th:only-of-type {\n",
              "        vertical-align: middle;\n",
              "    }\n",
              "\n",
              "    .dataframe tbody tr th {\n",
              "        vertical-align: top;\n",
              "    }\n",
              "\n",
              "    .dataframe thead th {\n",
              "        text-align: right;\n",
              "    }\n",
              "</style>\n",
              "<table border=\"1\" class=\"dataframe\">\n",
              "  <thead>\n",
              "    <tr style=\"text-align: right;\">\n",
              "      <th></th>\n",
              "      <th>filename</th>\n",
              "      <th>width</th>\n",
              "      <th>height</th>\n",
              "      <th>class</th>\n",
              "      <th>xmin</th>\n",
              "      <th>ymin</th>\n",
              "      <th>xmax</th>\n",
              "      <th>ymax</th>\n",
              "      <th>image_id</th>\n",
              "    </tr>\n",
              "  </thead>\n",
              "  <tbody>\n",
              "    <tr>\n",
              "      <th>0</th>\n",
              "      <td>10.jpg</td>\n",
              "      <td>800</td>\n",
              "      <td>531</td>\n",
              "      <td>fracture</td>\n",
              "      <td>291</td>\n",
              "      <td>225</td>\n",
              "      <td>352</td>\n",
              "      <td>309</td>\n",
              "      <td>0</td>\n",
              "    </tr>\n",
              "    <tr>\n",
              "      <th>1</th>\n",
              "      <td>158.jpg</td>\n",
              "      <td>872</td>\n",
              "      <td>1024</td>\n",
              "      <td>fracture</td>\n",
              "      <td>578</td>\n",
              "      <td>202</td>\n",
              "      <td>675</td>\n",
              "      <td>349</td>\n",
              "      <td>1</td>\n",
              "    </tr>\n",
              "    <tr>\n",
              "      <th>2</th>\n",
              "      <td>158.jpg</td>\n",
              "      <td>872</td>\n",
              "      <td>1024</td>\n",
              "      <td>fracture</td>\n",
              "      <td>570</td>\n",
              "      <td>67</td>\n",
              "      <td>609</td>\n",
              "      <td>132</td>\n",
              "      <td>1</td>\n",
              "    </tr>\n",
              "    <tr>\n",
              "      <th>3</th>\n",
              "      <td>37.jpg</td>\n",
              "      <td>1500</td>\n",
              "      <td>2000</td>\n",
              "      <td>fracture</td>\n",
              "      <td>715</td>\n",
              "      <td>1114</td>\n",
              "      <td>921</td>\n",
              "      <td>1405</td>\n",
              "      <td>2</td>\n",
              "    </tr>\n",
              "    <tr>\n",
              "      <th>4</th>\n",
              "      <td>87.jpg</td>\n",
              "      <td>555</td>\n",
              "      <td>865</td>\n",
              "      <td>fracture</td>\n",
              "      <td>141</td>\n",
              "      <td>402</td>\n",
              "      <td>170</td>\n",
              "      <td>421</td>\n",
              "      <td>3</td>\n",
              "    </tr>\n",
              "    <tr>\n",
              "      <th>...</th>\n",
              "      <td>...</td>\n",
              "      <td>...</td>\n",
              "      <td>...</td>\n",
              "      <td>...</td>\n",
              "      <td>...</td>\n",
              "      <td>...</td>\n",
              "      <td>...</td>\n",
              "      <td>...</td>\n",
              "      <td>...</td>\n",
              "    </tr>\n",
              "    <tr>\n",
              "      <th>288</th>\n",
              "      <td>69.jpg</td>\n",
              "      <td>327</td>\n",
              "      <td>442</td>\n",
              "      <td>fracture</td>\n",
              "      <td>84</td>\n",
              "      <td>217</td>\n",
              "      <td>117</td>\n",
              "      <td>274</td>\n",
              "      <td>233</td>\n",
              "    </tr>\n",
              "    <tr>\n",
              "      <th>289</th>\n",
              "      <td>213.jpg</td>\n",
              "      <td>946</td>\n",
              "      <td>1500</td>\n",
              "      <td>fracture</td>\n",
              "      <td>285</td>\n",
              "      <td>781</td>\n",
              "      <td>378</td>\n",
              "      <td>899</td>\n",
              "      <td>234</td>\n",
              "    </tr>\n",
              "    <tr>\n",
              "      <th>290</th>\n",
              "      <td>213.jpg</td>\n",
              "      <td>946</td>\n",
              "      <td>1500</td>\n",
              "      <td>fracture</td>\n",
              "      <td>376</td>\n",
              "      <td>746</td>\n",
              "      <td>469</td>\n",
              "      <td>869</td>\n",
              "      <td>234</td>\n",
              "    </tr>\n",
              "    <tr>\n",
              "      <th>291</th>\n",
              "      <td>234.jpg</td>\n",
              "      <td>525</td>\n",
              "      <td>812</td>\n",
              "      <td>fracture</td>\n",
              "      <td>400</td>\n",
              "      <td>384</td>\n",
              "      <td>446</td>\n",
              "      <td>431</td>\n",
              "      <td>235</td>\n",
              "    </tr>\n",
              "    <tr>\n",
              "      <th>292</th>\n",
              "      <td>89.jpg</td>\n",
              "      <td>1754</td>\n",
              "      <td>2333</td>\n",
              "      <td>fracture</td>\n",
              "      <td>1339</td>\n",
              "      <td>1366</td>\n",
              "      <td>1500</td>\n",
              "      <td>1538</td>\n",
              "      <td>236</td>\n",
              "    </tr>\n",
              "  </tbody>\n",
              "</table>\n",
              "<p>293 rows × 9 columns</p>\n",
              "</div>"
            ],
            "text/plain": [
              "    filename  width  height     class  xmin  ymin  xmax  ymax  image_id\n",
              "0     10.jpg    800     531  fracture   291   225   352   309         0\n",
              "1    158.jpg    872    1024  fracture   578   202   675   349         1\n",
              "2    158.jpg    872    1024  fracture   570    67   609   132         1\n",
              "3     37.jpg   1500    2000  fracture   715  1114   921  1405         2\n",
              "4     87.jpg    555     865  fracture   141   402   170   421         3\n",
              "..       ...    ...     ...       ...   ...   ...   ...   ...       ...\n",
              "288   69.jpg    327     442  fracture    84   217   117   274       233\n",
              "289  213.jpg    946    1500  fracture   285   781   378   899       234\n",
              "290  213.jpg    946    1500  fracture   376   746   469   869       234\n",
              "291  234.jpg    525     812  fracture   400   384   446   431       235\n",
              "292   89.jpg   1754    2333  fracture  1339  1366  1500  1538       236\n",
              "\n",
              "[293 rows x 9 columns]"
            ]
          },
          "metadata": {
            "tags": []
          },
          "execution_count": 14
        },
        {
          "output_type": "stream",
          "name": "stdout",
          "text": [
            "time: 28.9 ms (started: 2021-06-22 16:29:27 +00:00)\n"
          ]
        }
      ],
      "metadata": {
        "colab": {
          "base_uri": "https://localhost:8080/",
          "height": 436
        },
        "id": "gL_ZDBpVjZxW",
        "outputId": "a1b85fc1-d78b-4683-e6ce-546277d9b638"
      }
    },
    {
      "cell_type": "code",
      "execution_count": null,
      "source": [
        "from PIL import Image\n",
        "import glob\n",
        "image_list = []\n",
        "for filename in glob.glob('/content/tommy/train/*.jpg'): #assuming gif\n",
        "    im=Image.open(filename)\n",
        "    image_list.append(im)\n",
        "    # converting to jpg\n",
        "    rgb_im = im.convert(\"RGB\")\n",
        "    # exporting the image\n",
        "    rgb_im.save(filename)\n",
        "    print(\"The size of the image after conversion : \",filename )\n",
        "ketthuc()\n",
        "for filename in glob.glob('/content/tommy/test/*.jpg'): #assuming gif\n",
        "    im=Image.open(filename)\n",
        "    image_list.append(im)\n",
        "    # converting to jpg\n",
        "    rgb_im = im.convert(\"RGB\")\n",
        "    # exporting the image\n",
        "    rgb_im.save(filename)\n",
        "    print(\"The size of the image after conversion : \",filename )\n",
        "ketthuc()"
      ],
      "outputs": [
        {
          "output_type": "stream",
          "name": "stdout",
          "text": [
            "Done process at : 2021-06-22 16:20:55\n",
            "time: 5.63 s (started: 2021-06-22 16:56:35 +00:00)\n"
          ]
        }
      ],
      "metadata": {
        "colab": {
          "base_uri": "https://localhost:8080/"
        },
        "id": "ZDbUVZC5n38x",
        "outputId": "6e032748-936d-4ed2-cd44-70831db80451"
      }
    },
    {
      "cell_type": "code",
      "execution_count": null,
      "source": [
        "dataset = Dataset('train.csv', '/content/tommy/train/')\n",
        "loader = DataLoader(dataset, batch_size=2, shuffle=False)\n",
        "i=1\n",
        "for images, targets in loader:\n",
        "  print(i)\n",
        "  print(images[0].shape)\n",
        "  print(targets[0])\n",
        "  i=i+1"
      ],
      "outputs": [],
      "metadata": {
        "id": "vROkMp28mmqZ"
      }
    },
    {
      "cell_type": "code",
      "execution_count": null,
      "source": [
        "dataset = Dataset('train.csv', '/content/tommy/train/')\n",
        "val_dataset = Dataset('test.csv', '/content/tommy/test/')  \n",
        "# Validation dataset for training\n",
        "# Create your own DataLoader with custom options\n",
        "loader = DataLoader(dataset, batch_size=2, shuffle=True)\n",
        "model = Model(['fracture'])\n",
        "losses = model.fit(loader, val_dataset, epochs=10, learning_rate=0.001, verbose=True)\n",
        "plt.plot(losses)  # Visualize loss throughout training\n",
        "plt.show()"
      ],
      "outputs": [
        {
          "output_type": "stream",
          "name": "stderr",
          "text": [
            "\r  0%|          | 0/119 [00:00<?, ?it/s]"
          ]
        },
        {
          "output_type": "stream",
          "name": "stdout",
          "text": [
            "Epoch 1 of 10\n",
            "Begin iterating over training dataset\n"
          ]
        },
        {
          "output_type": "stream",
          "name": "stderr",
          "text": [
            "100%|██████████| 119/119 [01:09<00:00,  1.70it/s]\n",
            "  0%|          | 0/40 [00:00<?, ?it/s]"
          ]
        },
        {
          "output_type": "stream",
          "name": "stdout",
          "text": [
            "Begin iterating over validation dataset\n"
          ]
        },
        {
          "output_type": "stream",
          "name": "stderr",
          "text": [
            "100%|██████████| 40/40 [00:05<00:00,  7.83it/s]\n",
            "  0%|          | 0/119 [00:00<?, ?it/s]"
          ]
        },
        {
          "output_type": "stream",
          "name": "stdout",
          "text": [
            "Loss: 0.23659356795251368\n",
            "Epoch 2 of 10\n",
            "Begin iterating over training dataset\n"
          ]
        },
        {
          "output_type": "stream",
          "name": "stderr",
          "text": [
            "100%|██████████| 119/119 [01:08<00:00,  1.73it/s]\n",
            "  0%|          | 0/40 [00:00<?, ?it/s]"
          ]
        },
        {
          "output_type": "stream",
          "name": "stdout",
          "text": [
            "Begin iterating over validation dataset\n"
          ]
        },
        {
          "output_type": "stream",
          "name": "stderr",
          "text": [
            "100%|██████████| 40/40 [00:05<00:00,  7.80it/s]\n",
            "  0%|          | 0/119 [00:00<?, ?it/s]"
          ]
        },
        {
          "output_type": "stream",
          "name": "stdout",
          "text": [
            "Loss: 0.22411430068314075\n",
            "Epoch 3 of 10\n",
            "Begin iterating over training dataset\n"
          ]
        },
        {
          "output_type": "stream",
          "name": "stderr",
          "text": [
            "100%|██████████| 119/119 [01:09<00:00,  1.72it/s]\n",
            "  0%|          | 0/40 [00:00<?, ?it/s]"
          ]
        },
        {
          "output_type": "stream",
          "name": "stdout",
          "text": [
            "Begin iterating over validation dataset\n"
          ]
        },
        {
          "output_type": "stream",
          "name": "stderr",
          "text": [
            "100%|██████████| 40/40 [00:05<00:00,  7.80it/s]\n",
            "  0%|          | 0/119 [00:00<?, ?it/s]"
          ]
        },
        {
          "output_type": "stream",
          "name": "stdout",
          "text": [
            "Loss: 0.19601952601224185\n",
            "Epoch 4 of 10\n",
            "Begin iterating over training dataset\n"
          ]
        },
        {
          "output_type": "stream",
          "name": "stderr",
          "text": [
            "100%|██████████| 119/119 [01:09<00:00,  1.72it/s]\n",
            "  0%|          | 0/40 [00:00<?, ?it/s]"
          ]
        },
        {
          "output_type": "stream",
          "name": "stdout",
          "text": [
            "Begin iterating over validation dataset\n"
          ]
        },
        {
          "output_type": "stream",
          "name": "stderr",
          "text": [
            "100%|██████████| 40/40 [00:05<00:00,  7.73it/s]\n",
            "  0%|          | 0/119 [00:00<?, ?it/s]"
          ]
        },
        {
          "output_type": "stream",
          "name": "stdout",
          "text": [
            "Loss: 0.17748425509780646\n",
            "Epoch 5 of 10\n",
            "Begin iterating over training dataset\n"
          ]
        },
        {
          "output_type": "stream",
          "name": "stderr",
          "text": [
            "100%|██████████| 119/119 [01:08<00:00,  1.73it/s]\n",
            "  2%|▎         | 1/40 [00:00<00:07,  5.29it/s]"
          ]
        },
        {
          "output_type": "stream",
          "name": "stdout",
          "text": [
            "Begin iterating over validation dataset\n"
          ]
        },
        {
          "output_type": "stream",
          "name": "stderr",
          "text": [
            "100%|██████████| 40/40 [00:05<00:00,  7.87it/s]\n",
            "  0%|          | 0/119 [00:00<?, ?it/s]"
          ]
        },
        {
          "output_type": "stream",
          "name": "stdout",
          "text": [
            "Loss: 0.17249269485473634\n",
            "Epoch 6 of 10\n",
            "Begin iterating over training dataset\n"
          ]
        },
        {
          "output_type": "stream",
          "name": "stderr",
          "text": [
            "100%|██████████| 119/119 [01:08<00:00,  1.73it/s]\n",
            "  2%|▎         | 1/40 [00:00<00:07,  5.20it/s]"
          ]
        },
        {
          "output_type": "stream",
          "name": "stdout",
          "text": [
            "Begin iterating over validation dataset\n"
          ]
        },
        {
          "output_type": "stream",
          "name": "stderr",
          "text": [
            "100%|██████████| 40/40 [00:05<00:00,  7.86it/s]\n",
            "  0%|          | 0/119 [00:00<?, ?it/s]"
          ]
        },
        {
          "output_type": "stream",
          "name": "stdout",
          "text": [
            "Loss: 0.1672154488041997\n",
            "Epoch 7 of 10\n",
            "Begin iterating over training dataset\n"
          ]
        },
        {
          "output_type": "stream",
          "name": "stderr",
          "text": [
            "100%|██████████| 119/119 [01:08<00:00,  1.73it/s]\n",
            "  0%|          | 0/40 [00:00<?, ?it/s]"
          ]
        },
        {
          "output_type": "stream",
          "name": "stdout",
          "text": [
            "Begin iterating over validation dataset\n"
          ]
        },
        {
          "output_type": "stream",
          "name": "stderr",
          "text": [
            "100%|██████████| 40/40 [00:05<00:00,  7.73it/s]\n",
            "  0%|          | 0/119 [00:00<?, ?it/s]"
          ]
        },
        {
          "output_type": "stream",
          "name": "stdout",
          "text": [
            "Loss: 0.165876149199903\n",
            "Epoch 8 of 10\n",
            "Begin iterating over training dataset\n"
          ]
        },
        {
          "output_type": "stream",
          "name": "stderr",
          "text": [
            "100%|██████████| 119/119 [01:09<00:00,  1.72it/s]\n",
            "  2%|▎         | 1/40 [00:00<00:07,  5.22it/s]"
          ]
        },
        {
          "output_type": "stream",
          "name": "stdout",
          "text": [
            "Begin iterating over validation dataset\n"
          ]
        },
        {
          "output_type": "stream",
          "name": "stderr",
          "text": [
            "100%|██████████| 40/40 [00:05<00:00,  7.84it/s]\n",
            "  0%|          | 0/119 [00:00<?, ?it/s]"
          ]
        },
        {
          "output_type": "stream",
          "name": "stdout",
          "text": [
            "Loss: 0.1655581111088395\n",
            "Epoch 9 of 10\n",
            "Begin iterating over training dataset\n"
          ]
        },
        {
          "output_type": "stream",
          "name": "stderr",
          "text": [
            "100%|██████████| 119/119 [01:08<00:00,  1.73it/s]\n",
            "  2%|▎         | 1/40 [00:00<00:07,  5.15it/s]"
          ]
        },
        {
          "output_type": "stream",
          "name": "stdout",
          "text": [
            "Begin iterating over validation dataset\n"
          ]
        },
        {
          "output_type": "stream",
          "name": "stderr",
          "text": [
            "100%|██████████| 40/40 [00:05<00:00,  7.82it/s]\n",
            "  0%|          | 0/119 [00:00<?, ?it/s]"
          ]
        },
        {
          "output_type": "stream",
          "name": "stdout",
          "text": [
            "Loss: 0.16290533747524022\n",
            "Epoch 10 of 10\n",
            "Begin iterating over training dataset\n"
          ]
        },
        {
          "output_type": "stream",
          "name": "stderr",
          "text": [
            "100%|██████████| 119/119 [01:09<00:00,  1.71it/s]\n",
            "  0%|          | 0/40 [00:00<?, ?it/s]"
          ]
        },
        {
          "output_type": "stream",
          "name": "stdout",
          "text": [
            "Begin iterating over validation dataset\n"
          ]
        },
        {
          "output_type": "stream",
          "name": "stderr",
          "text": [
            "100%|██████████| 40/40 [00:05<00:00,  7.80it/s]\n"
          ]
        },
        {
          "output_type": "stream",
          "name": "stdout",
          "text": [
            "Loss: 0.16329496800899507\n"
          ]
        },
        {
          "output_type": "display_data",
          "data": {
            "image/png": "[encoded data removed]",
            "text/plain": [
              "<Figure size 432x288 with 1 Axes>"
            ]
          },
          "metadata": {
            "tags": [],
            "needs_background": "light"
          }
        },
        {
          "output_type": "stream",
          "name": "stdout",
          "text": [
            "time: 12min 23s (started: 2021-06-22 16:56:47 +00:00)\n"
          ]
        }
      ],
      "metadata": {
        "id": "VrWoeWhvWHv1",
        "colab": {
          "base_uri": "https://localhost:8080/",
          "height": 1000
        },
        "outputId": "16f789a0-cbca-438a-b2fb-3bfdc6d7d103"
      }
    },
    {
      "cell_type": "code",
      "execution_count": null,
      "source": [
        "image = read_image('/content/tommy/test/3.jpg')  \n",
        "# Helper function to read in images\n",
        "labels, boxes, scores = model.predict(image)"
      ],
      "outputs": [
        {
          "output_type": "stream",
          "name": "stdout",
          "text": [
            "time: 182 ms (started: 2021-06-22 17:09:16 +00:00)\n"
          ]
        }
      ],
      "metadata": {
        "id": "GtHXEQpbWcGv",
        "colab": {
          "base_uri": "https://localhost:8080/"
        },
        "outputId": "71f136ee-b4f7-4c26-a39d-1faef1de03a6"
      }
    },
    {
      "cell_type": "code",
      "execution_count": null,
      "source": [
        "def view_predictions(labels, boxes, scores, conf, path):\n",
        "    lab = []\n",
        "    box = []\n",
        "    scr = []\n",
        "    img = cv2.imread(path)\n",
        "    for i,j in enumerate(scores):\n",
        "        if j > conf:\n",
        "            lab.append(labels[i])\n",
        "            box.append(boxes[i])\n",
        "            scr.append(scores[i])\n",
        "    for k,l in enumerate(box):       \n",
        "        x = box[k][0]\n",
        "        y = box[k][1]\n",
        "        x2 = box[k][2]\n",
        "        y2 = box[k][3]    \n",
        "        cv2.rectangle(img, (x, y), (x2, y2), (255, 0, 0), 4)\n",
        "        cv2.putText(img, str(scr[k]), (x,y), cv2.FONT_HERSHEY_SIMPLEX, 1, 255)\n",
        "    return img"
      ],
      "outputs": [
        {
          "output_type": "stream",
          "name": "stdout",
          "text": [
            "time: 9.07 ms (started: 2021-06-22 17:09:19 +00:00)\n"
          ]
        }
      ],
      "metadata": {
        "id": "P4nAsNFQj9fN",
        "colab": {
          "base_uri": "https://localhost:8080/"
        },
        "outputId": "4b76f177-9998-4f5a-ded6-bc449c5010fd"
      }
    },
    {
      "cell_type": "code",
      "execution_count": null,
      "source": [
        "# Comparing with GT\n",
        "path = '/content/tommy/test/14.jpg'\n",
        "image = read_image(path)  # Helper function to read in images\n",
        "labels, boxes, scores = model.predict(image) "
      ],
      "outputs": [
        {
          "output_type": "stream",
          "name": "stdout",
          "text": [
            "time: 178 ms (started: 2021-06-22 17:09:22 +00:00)\n"
          ]
        }
      ],
      "metadata": {
        "colab": {
          "base_uri": "https://localhost:8080/"
        },
        "id": "tV6BT_GwW93a",
        "outputId": "f6ce5311-3876-48d0-929a-94904e88e07f"
      }
    },
    {
      "cell_type": "code",
      "execution_count": null,
      "source": [
        "test_df = pd.read_csv('/content/tommy/test.csv')\n",
        "cur_df = test_df[test_df['filename'] == path.split('/')[-1]]\n",
        "img_gt = cv2.imread(path)\n",
        "x = cur_df['xmin']\n",
        "y = cur_df['ymin']\n",
        "x2 = cur_df['xmax']\n",
        "y2= cur_df['ymax']\n",
        "ans = cv2.rectangle(img_gt, (x, y), (x2, y2), (255, 0, 0), 4)"
      ],
      "outputs": [
        {
          "output_type": "stream",
          "name": "stdout",
          "text": [
            "time: 24.7 ms (started: 2021-06-22 17:09:37 +00:00)\n"
          ]
        }
      ],
      "metadata": {
        "id": "meKpdK9OkKLx",
        "colab": {
          "base_uri": "https://localhost:8080/"
        },
        "outputId": "d9fc87e4-c3b1-4d84-ff42-2bc2f1f8d244"
      }
    },
    {
      "cell_type": "code",
      "execution_count": null,
      "source": [
        "img = view_predictions(labels, boxes, scores, 0.45, path)\n",
        "\n",
        "figure = plt.figure(figsize=(10, 5))\n",
        "plt.subplot(1, 2, 1)\n",
        "plt.imshow(img_gt)\n",
        "plt.title(\"Ground_truth\")\n",
        "\n",
        "plt.subplot(1, 2, 2)\n",
        "plt.imshow(img)\n",
        "plt.title(\"prediction\")"
      ],
      "outputs": [
        {
          "output_type": "execute_result",
          "data": {
            "text/plain": [
              "Text(0.5, 1.0, 'prediction')"
            ]
          },
          "metadata": {
            "tags": []
          },
          "execution_count": 43
        },
        {
          "output_type": "display_data",
          "data": {
            "image/png": "[encoded data removed]",
            "text/plain": [
              "<Figure size 720x360 with 2 Axes>"
            ]
          },
          "metadata": {
            "tags": [],
            "needs_background": "light"
          }
        },
        {
          "output_type": "stream",
          "name": "stdout",
          "text": [
            "time: 342 ms (started: 2021-06-22 17:09:42 +00:00)\n"
          ]
        }
      ],
      "metadata": {
        "id": "hMpLj_fbkYCS",
        "colab": {
          "base_uri": "https://localhost:8080/",
          "height": 370
        },
        "outputId": "9a79444b-6f98-4d3f-8646-4623604c67c9"
      }
    },
    {
      "cell_type": "code",
      "execution_count": null,
      "source": [
        "# With random x-rays\n",
        "!wget -O /content/tommy/s2.jpg https://image.shutterstock.com/image-photo/closed-fracture-left-leg-xray-260nw-406880146.jpg\n",
        "path = '/content/tommy/s2.jpg'\n",
        "ketthuc()\n",
        "image = read_image(path)  # Helper function to read in images\n",
        "labels, boxes, scores = model.predict(image)\n",
        "rimg = view_predictions(labels, boxes, scores, 0.2, path)\n",
        "rimg_gt = cv2.imread(path)\n",
        "\n",
        "figure = plt.figure(figsize=(10, 5))\n",
        "plt.subplot(1, 2, 1)\n",
        "plt.imshow(rimg_gt)\n",
        "plt.title(\"Ground_truth\")\n",
        "\n",
        "plt.subplot(1, 2, 2)\n",
        "plt.imshow(rimg)\n",
        "plt.title(\"prediction\")"
      ],
      "outputs": [
        {
          "output_type": "stream",
          "name": "stdout",
          "text": [
            "Done process at : 2021-06-22 16:20:55\n"
          ]
        },
        {
          "output_type": "execute_result",
          "data": {
            "text/plain": [
              "Text(0.5, 1.0, 'prediction')"
            ]
          },
          "metadata": {
            "tags": []
          },
          "execution_count": 44
        },
        {
          "output_type": "display_data",
          "data": {
            "image/png": "[encoded data removed]",
            "text/plain": [
              "<Figure size 720x360 with 2 Axes>"
            ]
          },
          "metadata": {
            "tags": [],
            "needs_background": "light"
          }
        },
        {
          "output_type": "stream",
          "name": "stdout",
          "text": [
            "time: 1.18 s (started: 2021-06-22 17:09:47 +00:00)\n"
          ]
        }
      ],
      "metadata": {
        "id": "Z-LCmenUl_CV",
        "colab": {
          "base_uri": "https://localhost:8080/",
          "height": 297
        },
        "outputId": "740c4055-d158-4bab-859e-06b79d1dabd0"
      }
    },
    {
      "cell_type": "markdown",
      "source": [
        "### SAVE MODEL"
      ],
      "metadata": {
        "id": "uiuIMWCkvOh1"
      }
    },
    {
      "cell_type": "code",
      "execution_count": null,
      "source": [
        "model.save(\"hand_fracture.h5\")"
      ],
      "outputs": [
        {
          "output_type": "stream",
          "name": "stdout",
          "text": [
            "time: 354 ms (started: 2021-06-22 17:15:11 +00:00)\n"
          ]
        }
      ],
      "metadata": {
        "id": "mRXp-FF7l-aK",
        "colab": {
          "base_uri": "https://localhost:8080/"
        },
        "outputId": "a0d53042-79e2-47d5-b543-db730f003a6b"
      }
    },
    {
      "cell_type": "markdown",
      "source": [
        "---\n",
        "# End Note"
      ],
      "metadata": {
        "id": "C9umcBOHFN0Z"
      }
    },
    {
      "cell_type": "code",
      "execution_count": null,
      "source": [
        "import os, signal\n",
        "os.kill(os.getpid(), signal.SIGKILL)"
      ],
      "outputs": [
        {
          "output_type": "stream",
          "name": "stdout",
          "text": [
            "time: 215 ms\n"
          ]
        }
      ],
      "metadata": {
        "colab": {
          "base_uri": "https://localhost:8080/"
        },
        "id": "5XirL4LtFR3T",
        "outputId": "9783a27c-898e-49d1-fa82-d3b369b88d40"
      }
    }
  ]
}